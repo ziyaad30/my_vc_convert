{
  "nbformat": 4,
  "nbformat_minor": 0,
  "metadata": {
    "colab": {
      "provenance": [],
      "gpuType": "T4",
      "authorship_tag": "ABX9TyPKQ6uFhNCGuwo8UZ5s/W0u",
      "include_colab_link": true
    },
    "kernelspec": {
      "name": "python3",
      "display_name": "Python 3"
    },
    "language_info": {
      "name": "python"
    },
    "accelerator": "GPU"
  },
  "cells": [
    {
      "cell_type": "markdown",
      "metadata": {
        "id": "view-in-github",
        "colab_type": "text"
      },
      "source": [
        "<a href=\"https://colab.research.google.com/github/ziyaad30/my_vc_convert/blob/master/Training_Colab.ipynb\" target=\"_parent\"><img src=\"https://colab.research.google.com/assets/colab-badge.svg\" alt=\"Open In Colab\"/></a>"
      ]
    },
    {
      "cell_type": "code",
      "source": [
        "!git clone https://github.com/ziyaad30/my_vc_convert.git"
      ],
      "metadata": {
        "id": "iQGs7GyX85H3"
      },
      "execution_count": null,
      "outputs": []
    },
    {
      "cell_type": "code",
      "source": [
        "%cd my_vc_convert"
      ],
      "metadata": {
        "id": "ymptbCp9ZXZ0"
      },
      "execution_count": null,
      "outputs": []
    },
    {
      "cell_type": "code",
      "source": [
        "!pip install -r requirements.txt"
      ],
      "metadata": {
        "id": "eWn0nCIy9yYK"
      },
      "execution_count": null,
      "outputs": []
    },
    {
      "cell_type": "code",
      "source": [
        "%cd my_vc_convert\n",
        "%cd src"
      ],
      "metadata": {
        "id": "GqkOwzWv9y-A"
      },
      "execution_count": null,
      "outputs": []
    },
    {
      "cell_type": "code",
      "source": [
        "from google.colab import drive\n",
        "drive.mount('/content/drive')"
      ],
      "metadata": {
        "id": "quZWLrXG98G-"
      },
      "execution_count": null,
      "outputs": []
    },
    {
      "cell_type": "code",
      "source": [
        "!python preprocess.py --dataset /content/drive/MyDrive/VALLE --n_spkrs 2 --model_name data_train"
      ],
      "metadata": {
        "id": "jEsHXwkqEMdq"
      },
      "execution_count": null,
      "outputs": []
    },
    {
      "cell_type": "code",
      "source": [
        "!python train.py --model_name data_train --dataset /content/drive/MyDrive/VALLE --n_spkrs 2 --checkpoint_interval 10 --n_epochs 200 --decay_epoch 10 --n_cpu 2 --batch_size 32"
      ],
      "metadata": {
        "id": "qWTspGO-FNkY"
      },
      "execution_count": null,
      "outputs": []
    },
    {
      "cell_type": "code",
      "source": [
        "!rm -rf saved_models/data_train\n",
        "!rm -rf out_train"
      ],
      "metadata": {
        "id": "kJG7pNB3eZwU"
      },
      "execution_count": 47,
      "outputs": []
    }
  ]
}